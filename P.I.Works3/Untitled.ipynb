{
 "cells": [
  {
   "cell_type": "code",
   "execution_count": 1,
   "id": "539f19ca",
   "metadata": {},
   "outputs": [],
   "source": [
    "import numpy as np\n",
    "import pandas as pd"
   ]
  },
  {
   "cell_type": "code",
   "execution_count": 2,
   "id": "4c3db9cb",
   "metadata": {},
   "outputs": [],
   "source": [
    "data = {'Device_Type':['AXO145','TRU151','ZOD231','YRT326'],\n",
    "        'Stats_Access_Link':[\"<url>https://xcd32112.smart_meter.com</url>\",\n",
    "                             \"<url>http://tXh67.dia_meter.com</url>\",\n",
    "                             \"<url>http://yT5495.smart_meter.com</url>\",\n",
    "                             \"<url>https://ret323_Tru.crown.com</url>\"]} \n",
    "df = pd.DataFrame(data, index =[0,1,2,3])  "
   ]
  },
  {
   "cell_type": "code",
   "execution_count": 5,
   "id": "9bbf3197",
   "metadata": {},
   "outputs": [
    {
     "data": {
      "text/html": [
       "<div>\n",
       "<style scoped>\n",
       "    .dataframe tbody tr th:only-of-type {\n",
       "        vertical-align: middle;\n",
       "    }\n",
       "\n",
       "    .dataframe tbody tr th {\n",
       "        vertical-align: top;\n",
       "    }\n",
       "\n",
       "    .dataframe thead th {\n",
       "        text-align: right;\n",
       "    }\n",
       "</style>\n",
       "<table border=\"1\" class=\"dataframe\">\n",
       "  <thead>\n",
       "    <tr style=\"text-align: right;\">\n",
       "      <th></th>\n",
       "      <th>Device_Type</th>\n",
       "      <th>Stats_Access_Link</th>\n",
       "    </tr>\n",
       "  </thead>\n",
       "  <tbody>\n",
       "    <tr>\n",
       "      <th>0</th>\n",
       "      <td>AXO145</td>\n",
       "      <td>&lt;url&gt;https://xcd32112.smart_meter.com&lt;/url&gt;</td>\n",
       "    </tr>\n",
       "    <tr>\n",
       "      <th>1</th>\n",
       "      <td>TRU151</td>\n",
       "      <td>&lt;url&gt;http://tXh67.dia_meter.com&lt;/url&gt;</td>\n",
       "    </tr>\n",
       "    <tr>\n",
       "      <th>2</th>\n",
       "      <td>ZOD231</td>\n",
       "      <td>&lt;url&gt;http://yT5495.smart_meter.com&lt;/url&gt;</td>\n",
       "    </tr>\n",
       "    <tr>\n",
       "      <th>3</th>\n",
       "      <td>YRT326</td>\n",
       "      <td>&lt;url&gt;https://ret323_Tru.crown.com&lt;/url&gt;</td>\n",
       "    </tr>\n",
       "  </tbody>\n",
       "</table>\n",
       "</div>"
      ],
      "text/plain": [
       "  Device_Type                            Stats_Access_Link\n",
       "0      AXO145  <url>https://xcd32112.smart_meter.com</url>\n",
       "1      TRU151        <url>http://tXh67.dia_meter.com</url>\n",
       "2      ZOD231     <url>http://yT5495.smart_meter.com</url>\n",
       "3      YRT326      <url>https://ret323_Tru.crown.com</url>"
      ]
     },
     "execution_count": 5,
     "metadata": {},
     "output_type": "execute_result"
    }
   ],
   "source": [
    "df"
   ]
  },
  {
   "cell_type": "code",
   "execution_count": 9,
   "id": "4cea747d",
   "metadata": {},
   "outputs": [
    {
     "name": "stdout",
     "output_type": "stream",
     "text": [
      "kod giriniz: AXO145\n",
      "<url>https://xcd32112.smart_meter.com</url>\n"
     ]
    }
   ],
   "source": [
    "a = input(\"kod giriniz: \")\n",
    "if (a == \"AXO145\"):\n",
    "    print(df.iloc[0,1])"
   ]
  },
  {
   "cell_type": "code",
   "execution_count": 22,
   "id": "68d45a30",
   "metadata": {},
   "outputs": [
    {
     "data": {
      "text/plain": [
       "'<url>https://xcd32112.smart_meter.com</url>'"
      ]
     },
     "execution_count": 22,
     "metadata": {},
     "output_type": "execute_result"
    }
   ],
   "source": [
    "df.iloc[0,1]"
   ]
  },
  {
   "cell_type": "code",
   "execution_count": 23,
   "id": "0f50fb2b",
   "metadata": {},
   "outputs": [],
   "source": [
    "stripped_string = df.iloc[0,1].replace(\"<url>https://\",\"\")"
   ]
  },
  {
   "cell_type": "code",
   "execution_count": 24,
   "id": "737637a7",
   "metadata": {},
   "outputs": [
    {
     "data": {
      "text/plain": [
       "'xcd32112.smart_meter.com</url>'"
      ]
     },
     "execution_count": 24,
     "metadata": {},
     "output_type": "execute_result"
    }
   ],
   "source": [
    "stripped_string"
   ]
  },
  {
   "cell_type": "code",
   "execution_count": 25,
   "id": "563ad7bb",
   "metadata": {},
   "outputs": [],
   "source": [
    "stripped_string = stripped_string.replace(\"</url>\",\"\")"
   ]
  },
  {
   "cell_type": "code",
   "execution_count": 26,
   "id": "dfa5f7df",
   "metadata": {},
   "outputs": [
    {
     "data": {
      "text/plain": [
       "'xcd32112.smart_meter.com'"
      ]
     },
     "execution_count": 26,
     "metadata": {},
     "output_type": "execute_result"
    }
   ],
   "source": [
    "stripped_string"
   ]
  },
  {
   "cell_type": "code",
   "execution_count": null,
   "id": "85b58285",
   "metadata": {},
   "outputs": [],
   "source": []
  }
 ],
 "metadata": {
  "kernelspec": {
   "display_name": "Python 3",
   "language": "python",
   "name": "python3"
  },
  "language_info": {
   "codemirror_mode": {
    "name": "ipython",
    "version": 3
   },
   "file_extension": ".py",
   "mimetype": "text/x-python",
   "name": "python",
   "nbconvert_exporter": "python",
   "pygments_lexer": "ipython3",
   "version": "3.8.8"
  }
 },
 "nbformat": 4,
 "nbformat_minor": 5
}
